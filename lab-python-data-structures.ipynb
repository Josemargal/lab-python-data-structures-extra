{
 "cells": [
  {
   "cell_type": "markdown",
   "metadata": {},
   "source": [
    "# Lab | Data Structures "
   ]
  },
  {
   "cell_type": "markdown",
   "metadata": {},
   "source": [
    "## Exercise 1: Working with Lists"
   ]
  },
  {
   "cell_type": "markdown",
   "metadata": {},
   "source": [
    "Imagine you are building a program for a teacher who wants to track the progress of their students throughout the semester. The teacher wants to input the grades of each student one by one, and get a summary of their performance. There are in total 5 students. You are tasked with building the program that will allow the teacher to do this easily.\n",
    "\n",
    "The program will prompt the teacher to enter the grades of each student. Once the teacher has entered all the grades, the program will calculate the total sum of the grades and display it on the screen. Then, the program will create a new list by selecting only the grades of the first, third, and fifth students entered by the teacher, and sort them in ascending order.\n",
    "\n",
    "Finally, the program will print out the new list, along with its length and the number of occurrences of the score 5 in the list. This will give the teacher a good overview of the performance of the selected students, and help them identify any potential issues early on."
   ]
  },
  {
   "cell_type": "markdown",
   "metadata": {},
   "source": [
    "*Hint:*\n",
    "- You can use the input() function to ask the user to enter their information.\n",
    "- Look for list methods to perform the tasks. \n",
    "- Remember, it is possible to get a part of the sequence using:\n",
    "\n",
    "    ```python\n",
    "    sequence[x:y:z]\n",
    "    ```\n",
    "    where x, y, z are integers.\n",
    "\n",
    "    The above returns a new sequence with the following characteristics:\n",
    "\n",
    "    - A sequence with the same type as the original (a slice of a list is a list, a slice of a tuple is a tuple, and a slice of a string is a string).\n",
    "    - A sequence with elements from `sequence [x]` to `sequence [y-1]` (does not include a sequence [y]). By skipping `z` elements each time, it can be omitted if ` z = 1`.\n"
   ]
  },
  {
   "cell_type": "markdown",
   "metadata": {},
   "source": [
    "*Recommended External Resources:*\n",
    "- *[Python Lists](https://www.w3schools.com/python/python_lists.asp)*\n",
    "- *[Python List Methods](https://www.w3schools.com/python/python_ref_list.asp)*\n",
    "- *[Python Built-in Functions](https://docs.python.org/3/library/functions.html)*\n"
   ]
  },
  {
   "cell_type": "code",
   "execution_count": null,
   "metadata": {},
   "outputs": [],
   "source": [
    "# Lista para almacenar las calificaciones de los 5 estudiantes\n",
    "grades = []\n",
    "\n",
    "# Bucle para solicitar las calificaciones de cada estudiante\n",
    "for i in range(1, 6):\n",
    "    grade = int(input(f\"Enter the grade for student {i}: \"))\n",
    "    grades.append(grade)\n",
    "\n",
    "# Calcular la suma total de las calificaciones\n",
    "total_sum = sum(grades)\n",
    "print(f\"Total sum of all grades: {total_sum}\")\n",
    "\n",
    "# Crear una nueva lista con las calificaciones del primer, tercer y quinto estudiante\n",
    "selected_grades = grades[0:5:2]  # Utiliza slicing para seleccionar los estudiantes 1, 3 y 5\n",
    "\n",
    "# Ordenar la nueva lista en orden ascendente\n",
    "selected_grades.sort()\n",
    "\n",
    "# Imprimir la nueva lista\n",
    "print(f\"Selected grades (sorted): {selected_grades}\")\n",
    "\n",
    "# Imprimir la longitud de la nueva lista\n",
    "print(f\"Length of the new list: {len(selected_grades)}\")\n",
    "\n",
    "# Contar cuántas veces aparece la calificación 5 en la nueva lista\n",
    "count_of_fives = selected_grades.count(5)\n",
    "print(f\"Number of occurrences of the score 5: {count_of_fives}\")"
   ]
  },
  {
   "cell_type": "markdown",
   "metadata": {},
   "source": [
    "## Exercise 2: Tuples"
   ]
  },
  {
   "cell_type": "markdown",
   "metadata": {},
   "source": [
    "Imagine you're running a fruit stand and want to keep track of your inventory. Write a Python program that does the following:\n",
    "\n",
    "- Initializes a tuple with 5 different types of fruit.\n",
    "- Outputs the first and last elements of the tuple, so you can see the full range of fruits the store offers.\n",
    "- Replaces the second element of the tuple with a new fruit that the store has recently received, and prints the updated tuple so you can see the changes.\n",
    "- Concatenates a new tuple containing 2 additional fruits to the original tuple, so you can add them to the store inventory, and prints the resulting tuple to see the updated inventory.\n",
    "- Splits the resulting tuple into 2 tuples of 3 elements each (the first tuple contains the first 3 elements, and the second tuple contains the last 3 elements), so you can organize the inventory more effectively.\n",
    "- Combines the 2 tuples from the previous step with the original tuple into a new tuple, and prints the resulting tuple and its length, so you can see the final inventory after all the changes."
   ]
  },
  {
   "cell_type": "markdown",
   "metadata": {},
   "source": [
    "*Recommended External Resources: [Python Tuples Examples and Methods](https://www.w3schools.com/python/python_tuples.asp)*\n",
    "\n"
   ]
  },
  {
   "cell_type": "code",
   "execution_count": null,
   "metadata": {},
   "outputs": [],
   "source": [
    "# Inicializar una tupla con 5 tipos diferentes de frutas\n",
    "fruits = (\"apple\", \"banana\", \"cherry\", \"orange\", \"watermelon\")\n",
    "\n",
    "# Imprimir el primer y último elemento de la tupla\n",
    "print(f\"First fruit: {fruits[0]}\")\n",
    "print(f\"Last fruit: {fruits[-1]}\")\n",
    "\n",
    "# Reemplazar el segundo elemento de la tupla (tuplas son inmutables, así que se debe crear una nueva)\n",
    "fruits = (fruits[0], \"kiwi\", *fruits[2:])\n",
    "\n",
    "# Imprimir la tupla actualizada\n",
    "print(f\"Updated tuple: {fruits}\")\n",
    "\n",
    "# Concatenar una nueva tupla con 2 frutas adicionales\n",
    "additional_fruits = (\"fig\", \"grape\")\n",
    "fruits = fruits + additional_fruits\n",
    "\n",
    "# Imprimir la tupla resultante después de la concatenación\n",
    "print(f\"Tuple after adding new fruits: {fruits}\")\n",
    "\n",
    "# Dividir la tupla resultante en dos tuplas de 3 elementos cada una\n",
    "first_half = fruits[:3]\n",
    "second_half = fruits[-3:]\n",
    "\n",
    "# Imprimir las dos nuevas tuplas\n",
    "print(f\"First half: {first_half}\")\n",
    "print(f\"Second half: {second_half}\")\n",
    "\n",
    "# Combinar las dos tuplas con la tupla original en una nueva tupla\n",
    "final_inventory = first_half + second_half + fruits\n",
    "\n",
    "# Imprimir la tupla resultante y su longitud\n",
    "print(f\"Final inventory tuple: {final_inventory}\")\n",
    "print(f\"Length of the final inventory tuple: {len(final_inventory)}\")"
   ]
  },
  {
   "cell_type": "markdown",
   "metadata": {},
   "source": [
    "## Exercise 3: Sets"
   ]
  },
  {
   "cell_type": "markdown",
   "metadata": {},
   "source": [
    "Imagine you are a data analyst working for a literature museum. Your manager has given you two poems to analyze, and she wants you to write a Python program to extract useful information from them.\n",
    "\n",
    "Your program should:\n",
    "\n",
    "- Create two sets, one for each poem, containing all unique words in both poems (ignoring case and punctuation).\n",
    "- Print the number of unique words in each set.\n",
    "- Identify and print the unique words present in the first poem but not in the second one.\n",
    "- Identify and print the unique words present in the second poem but not in the first one.\n",
    "- Identify and print the unique words present in both poems and print it in alphabetical order."
   ]
  },
  {
   "cell_type": "markdown",
   "metadata": {},
   "source": [
    "*Recommended External Resources:*\n",
    "- *[Python Sets](https://www.w3schools.com/python/python_sets.asp)* \n",
    "- *[Python Set Methods](https://www.w3schools.com/python/python_ref_set.asp)*\n",
    "- *[Python String Methods](https://www.w3schools.com/python/python_ref_string.asp)*\n"
   ]
  },
  {
   "cell_type": "code",
   "execution_count": null,
   "metadata": {},
   "outputs": [],
   "source": [
    "poem = \"\"\"Some say the world will end in fire,\n",
    "Some say in ice.\n",
    "From what I’ve tasted of desire\n",
    "I hold with those who favor fire.\n",
    "But if it had to perish twice,\n",
    "I think I know enough of hate\n",
    "To say that for destruction ice\n",
    "Is also great\n",
    "And would suffice.\"\"\"\n",
    "\n",
    "new_poem = \"\"\"Some say life is but a dream,\n",
    "Some say it's a test.\n",
    "From what I've seen and what I deem,\n",
    "I side with those who see it as a quest.\n",
    "\n",
    "But if it had to end today,\n",
    "I think I know enough of love,\n",
    "To say that though it fades away,\n",
    "It's still what we are made of.\"\"\""
   ]
  },
  {
   "cell_type": "code",
   "execution_count": null,
   "metadata": {},
   "outputs": [],
   "source": [
    "import string\n",
    "\n",
    "# Función para limpiar el texto, eliminando puntuación y pasando a minúsculas\n",
    "def clean_text(text):\n",
    "    translator = str.maketrans('', '', string.punctuation)\n",
    "    return text.translate(translator).lower()\n",
    "\n",
    "# Definir los dos poemas\n",
    "poem = \"\"\"Some say the world will end in fire,\n",
    "Some say in ice.\n",
    "From what I’ve tasted of desire\n",
    "I hold with those who favor fire.\n",
    "But if it had to perish twice,\n",
    "I think I know enough of hate\n",
    "To say that for destruction ice\n",
    "Is also great\n",
    "And would suffice.\"\"\"\n",
    "\n",
    "new_poem = \"\"\"Some say life is but a dream,\n",
    "Some say it's a test.\n",
    "From what I've seen and what I deem,\n",
    "I side with those who see it as a quest.\n",
    "\n",
    "But if it had to end today,\n",
    "I think I know enough of love,\n",
    "To say that though it fades away,\n",
    "It's still what we are made of.\"\"\"\n",
    "\n",
    "# Limpiar y dividir los poemas en listas de palabras\n",
    "words_poem = set(clean_text(poem).split())\n",
    "words_new_poem = set(clean_text(new_poem).split())\n",
    "\n",
    "# Imprimir el número de palabras únicas en cada set\n",
    "print(f\"Number of unique words in poem 1: {len(words_poem)}\")\n",
    "print(f\"Number of unique words in poem 2: {len(words_new_poem)}\")\n",
    "\n",
    "# Identificar palabras únicas en el primer poema pero no en el segundo\n",
    "unique_to_poem1 = words_poem - words_new_poem\n",
    "print(f\"Unique words in poem 1 but not in poem 2: {unique_to_poem1}\")\n",
    "\n",
    "# Identificar palabras únicas en el segundo poema pero no en el primero\n",
    "unique_to_poem2 = words_new_poem - words_poem\n",
    "print(f\"Unique words in poem 2 but not in poem 1: {unique_to_poem2}\")\n",
    "\n",
    "# Identificar palabras comunes en ambos poemas y ordenarlas alfabéticamente\n",
    "common_words = sorted(words_poem & words_new_poem)\n",
    "print(f\"Common words in both poems (alphabetical order): {common_words}\")"
   ]
  },
  {
   "cell_type": "markdown",
   "metadata": {},
   "source": [
    "## Exercise 4: Dictionaries"
   ]
  },
  {
   "cell_type": "markdown",
   "metadata": {},
   "source": [
    "Consider the following dictionary of students with their scores in different subjects. One of the students, Bob, has complained about his score in Philosophy and, after reviewing it, the teacher has decided to update his score to 100. Write a Python program that updates Bob's score in Philosophy to 100 in the dictionary."
   ]
  },
  {
   "cell_type": "markdown",
   "metadata": {},
   "source": [
    "*Recommended External Resources: [Python Dictionary Examples and Methods](https://www.w3schools.com/python/python_dictionaries.asp)*\n"
   ]
  },
  {
   "cell_type": "code",
   "execution_count": null,
   "metadata": {},
   "outputs": [],
   "source": [
    "grades = {'Alice': {'Physics': 75, 'Math': 85, 'Chemistry': 60, 'Philosophy': 90}, 'Bob': {'Physics': 75, 'Math': 85, 'Chemistry': 60, 'Philosophy': 90}}"
   ]
  },
  {
   "cell_type": "code",
   "execution_count": 2,
   "metadata": {},
   "outputs": [
    {
     "name": "stdout",
     "output_type": "stream",
     "text": [
      "{'Alice': {'Physics': 75, 'Math': 85, 'Chemistry': 60, 'Philosophy': 90}, 'Bob': {'Physics': 75, 'Math': 85, 'Chemistry': 60, 'Philosophy': 100}}\n"
     ]
    }
   ],
   "source": [
    "# Diccionario de calificaciones de los estudiantes\n",
    "grades = {\n",
    "    'Alice': {'Physics': 75, 'Math': 85, 'Chemistry': 60, 'Philosophy': 90},\n",
    "    'Bob': {'Physics': 75, 'Math': 85, 'Chemistry': 60, 'Philosophy': 90}\n",
    "}\n",
    "\n",
    "# Actualizar la calificación de Bob en Filosofía a 100\n",
    "grades['Bob']['Philosophy'] = 100\n",
    "\n",
    "# Imprimir el diccionario actualizado para verificar el cambio\n",
    "print(grades)"
   ]
  },
  {
   "cell_type": "markdown",
   "metadata": {},
   "source": [
    "## Bonus"
   ]
  },
  {
   "cell_type": "markdown",
   "metadata": {},
   "source": [
    "1. Below are the two lists. Write a Python program to convert them into a dictionary in a way that item from list1 is the key and item from list2 is the value."
   ]
  },
  {
   "cell_type": "markdown",
   "metadata": {},
   "source": [
    "*Hint: Use the zip() function. This function takes two or more iterables (like list, dict, string), aggregates them in a tuple, and returns it. Afterwards, you can use a function that turns a tuple into a dictionary.*"
   ]
  },
  {
   "cell_type": "markdown",
   "metadata": {},
   "source": [
    "*Recommended External Resources: [Python Zip Function](https://www.w3schools.com/python/ref_func_zip.asp)*\n"
   ]
  },
  {
   "cell_type": "code",
   "execution_count": 3,
   "metadata": {},
   "outputs": [
    {
     "name": "stdout",
     "output_type": "stream",
     "text": [
      "{'Physics': 75, 'Math': 85, 'Chemistry': 60, 'Philosophy': 90}\n"
     ]
    }
   ],
   "source": [
    "keys = ['Physics', 'Math', 'Chemistry', 'Philosophy']\n",
    "values = [75, 85, 60,90]\n",
    "\n",
    "# Convertir las listas en un diccionario\n",
    "dictionary = dict(zip(keys, values))\n",
    "\n",
    "# Imprimir el diccionario resultante\n",
    "print(dictionary)"
   ]
  },
  {
   "cell_type": "markdown",
   "metadata": {},
   "source": [
    "2. Get the subject with the minimum score from the previous dictionary."
   ]
  },
  {
   "cell_type": "markdown",
   "metadata": {},
   "source": [
    "*Hint: Use the built-in function min(). Read about the parameter key.*"
   ]
  },
  {
   "cell_type": "markdown",
   "metadata": {},
   "source": [
    "\n",
    "*Recommended External Resources:*\n",
    "- *[Python Min Function Official Documentation](https://docs.python.org/3.8/library/functions.html#min)*\n",
    "- *[How to use key function in max and min in Python](https://medium.com/analytics-vidhya/how-to-use-key-function-in-max-and-min-in-python-1fdbd661c59c)*"
   ]
  },
  {
   "cell_type": "code",
   "execution_count": 4,
   "metadata": {},
   "outputs": [
    {
     "name": "stdout",
     "output_type": "stream",
     "text": [
      "The subject with the minimum score is: Chemistry\n"
     ]
    }
   ],
   "source": [
    "# Diccionario de calificaciones\n",
    "dictionary = {'Physics': 75, 'Math': 85, 'Chemistry': 60, 'Philosophy': 90}\n",
    "\n",
    "# Encontrar la asignatura con la puntuación mínima\n",
    "subject_with_min_score = min(dictionary, key=dictionary.get)\n",
    "\n",
    "# Imprimir el resultado\n",
    "print(f\"The subject with the minimum score is: {subject_with_min_score}\")"
   ]
  }
 ],
 "metadata": {
  "kernelspec": {
   "display_name": "Python 3 (ipykernel)",
   "language": "python",
   "name": "python3"
  },
  "language_info": {
   "codemirror_mode": {
    "name": "ipython",
    "version": 3
   },
   "file_extension": ".py",
   "mimetype": "text/x-python",
   "name": "python",
   "nbconvert_exporter": "python",
   "pygments_lexer": "ipython3",
   "version": "3.12.4"
  }
 },
 "nbformat": 4,
 "nbformat_minor": 4
}
